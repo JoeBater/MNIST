{
 "cells": [
  {
   "cell_type": "markdown",
   "metadata": {},
   "source": [
    "# Get MNIST numbers"
   ]
  },
  {
   "cell_type": "code",
   "execution_count": 1,
   "metadata": {},
   "outputs": [
    {
     "name": "stderr",
     "output_type": "stream",
     "text": [
      "C:\\Users\\user\\AppData\\Local\\Packages\\PythonSoftwareFoundation.Python.3.10_qbz5n2kfra8p0\\LocalCache\\local-packages\\Python310\\site-packages\\torchvision\\io\\image.py:13: UserWarning: Failed to load image Python extension: 'Could not find module 'C:\\Users\\user\\AppData\\Local\\Packages\\PythonSoftwareFoundation.Python.3.10_qbz5n2kfra8p0\\LocalCache\\local-packages\\Python310\\site-packages\\torchvision\\image.pyd' (or one of its dependencies). Try using the full path with constructor syntax.'If you don't plan on using image functionality from `torchvision.io`, you can ignore this warning. Otherwise, there might be something wrong with your environment. Did you have `libjpeg` or `libpng` installed before building `torchvision` from source?\n",
      "  warn(\n"
     ]
    }
   ],
   "source": [
    "# get the numbers from the MNIST dataset from PyTorch datasets\n",
    "import torch\n",
    "import torchvision\n",
    "import torchvision.transforms as transforms\n",
    "import matplotlib.pyplot as plt\n",
    "import numpy as np"
   ]
  },
  {
   "cell_type": "code",
   "execution_count": 9,
   "metadata": {},
   "outputs": [],
   "source": [
    "# iterate over the training MNIST data, and save ALL the numbers 0-9 to file as images in the directory 'data' then by each number\n",
    "def save_numbers():\n",
    "    # load the training data\n",
    "    trainset = torchvision.datasets.MNIST(root='./data', train=True, download=True, transform=transforms.ToTensor())\n",
    "    trainloader = torch.utils.data.DataLoader(trainset, batch_size=4, shuffle=True, num_workers=2)\n",
    "\n",
    "    # iterate over the data and save the numbers to file\n",
    "    for i, data in enumerate(trainloader, 0):\n",
    "        images, labels = data\n",
    "        for j in range(len(labels)):\n",
    "            label = labels[j].item()\n",
    "            torchvision.utils.save_image(images[j], f'./data/{label}/{i}_{label}.png')\n",
    "\n",
    "save_numbers()\n",
    "\n"
   ]
  },
  {
   "cell_type": "code",
   "execution_count": 3,
   "metadata": {},
   "outputs": [
    {
     "name": "stdout",
     "output_type": "stream",
     "text": [
      "Done - 63 images saved to ./data/0, ./data/1, ..., ./data/9\n"
     ]
    },
    {
     "data": {
      "text/plain": [
       "<Figure size 640x480 with 0 Axes>"
      ]
     },
     "metadata": {},
     "output_type": "display_data"
    }
   ],
   "source": [
    "# iterate over the images and labels and if the image is a 0, 1, 2, 3, 4, 5, 6, 7, 8, or 9, save it as a png file to the current directory\n",
    "for i in range(len(images)):\n",
    "    image = images[i]\n",
    "    label = labels[i]\n",
    "    \n",
    "    # convert the label to a number\n",
    "    label = label.item()\n",
    "\n",
    "    if label in range(10):\n",
    "        #plt.imshow(image.numpy().squeeze(), cmap='gray')\n",
    "        plt.savefig('./data/'+str(label)+'/'+str(i)+'.png')\n",
    "    #else:\n",
    "    #    print(\"Error: Label is not a number between 0 and 9\")\n",
    "    #    break\n",
    "    #plt.show()\n",
    "\n",
    "print(\"Done - \" + str(i) + \" images saved to ./data/0, ./data/1, ..., ./data/9\")"
   ]
  }
 ],
 "metadata": {
  "kernelspec": {
   "display_name": "Python 3",
   "language": "python",
   "name": "python3"
  },
  "language_info": {
   "codemirror_mode": {
    "name": "ipython",
    "version": 3
   },
   "file_extension": ".py",
   "mimetype": "text/x-python",
   "name": "python",
   "nbconvert_exporter": "python",
   "pygments_lexer": "ipython3",
   "version": "3.10.11"
  }
 },
 "nbformat": 4,
 "nbformat_minor": 2
}
